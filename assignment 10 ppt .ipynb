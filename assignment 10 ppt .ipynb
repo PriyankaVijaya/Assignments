{
 "cells": [
  {
   "cell_type": "code",
   "execution_count": 2,
   "id": "73f67177",
   "metadata": {},
   "outputs": [
    {
     "name": "stdout",
     "output_type": "stream",
     "text": [
      "True\n",
      "False\n"
     ]
    }
   ],
   "source": [
    "# 1 \n",
    "def is_power_of_three(n):\n",
    "    if n <= 0:\n",
    "        return False\n",
    "    \n",
    "    while n > 1:\n",
    "        if n % 3 != 0:\n",
    "            return False\n",
    "        n /= 3\n",
    "    \n",
    "    return True\n",
    "n = 27\n",
    "result = is_power_of_three(n)\n",
    "print(result)  # Output: True\n",
    "\n",
    "n = 45\n",
    "result = is_power_of_three(n)\n",
    "print(result)  # Output: False\n",
    "\n"
   ]
  },
  {
   "cell_type": "code",
   "execution_count": 3,
   "id": "0bb3330f",
   "metadata": {},
   "outputs": [
    {
     "name": "stdout",
     "output_type": "stream",
     "text": [
      "6\n"
     ]
    }
   ],
   "source": [
    "# 2\n",
    "def last_remaining(n):\n",
    "    left_to_right = True\n",
    "    remaining = n\n",
    "    step = 1\n",
    "    head = 1\n",
    "\n",
    "    while remaining > 1:\n",
    "        if left_to_right or remaining % 2 == 1:\n",
    "            head += step\n",
    "\n",
    "        remaining //= 2\n",
    "        step *= 2\n",
    "        left_to_right = not left_to_right\n",
    "\n",
    "    return head\n",
    "\n",
    "n = 9\n",
    "result = last_remaining(n)\n",
    "print(result)  # Output: 6\n",
    "\n",
    "\n"
   ]
  },
  {
   "cell_type": "code",
   "execution_count": 4,
   "id": "f10aefe7",
   "metadata": {},
   "outputs": [
    {
     "name": "stdout",
     "output_type": "stream",
     "text": [
      "abc\n",
      "ab\n",
      "ac\n",
      "a\n",
      "bc\n",
      "b\n",
      "c\n",
      "\n"
     ]
    }
   ],
   "source": [
    "#3\n",
    "def print_subsets(string, subset, index):\n",
    "    if index == len(string):\n",
    "        print(subset)\n",
    "        return\n",
    "    \n",
    "    # Include current character in the subset\n",
    "    print_subsets(string, subset + string[index], index + 1)\n",
    "    \n",
    "    # Exclude current character from the subset\n",
    "    print_subsets(string, subset, index + 1)\n",
    "\n",
    "# Test the function\n",
    "string = \"abc\"\n",
    "print_subsets(string, \"\", 0)\n"
   ]
  },
  {
   "cell_type": "code",
   "execution_count": 6,
   "id": "a0ce298c",
   "metadata": {},
   "outputs": [
    {
     "name": "stdout",
     "output_type": "stream",
     "text": [
      "41\n"
     ]
    }
   ],
   "source": [
    "#4\n",
    "def calculate_length(string):\n",
    "    if string == \"\":\n",
    "        return 0\n",
    "    else:\n",
    "        return 1 + calculate_length(string[1:])\n",
    "\n",
    "# Test the function\n",
    "string = \"Hello, I am student of iNeuron Institute \"\n",
    "length = calculate_length(string)\n",
    "print(length)  # Output: 41\n"
   ]
  },
  {
   "cell_type": "code",
   "execution_count": 13,
   "id": "feab252c",
   "metadata": {},
   "outputs": [
    {
     "name": "stdout",
     "output_type": "stream",
     "text": [
      "15\n"
     ]
    }
   ],
   "source": [
    "#5\n",
    "def count_substrings(S):\n",
    "    count = 0\n",
    "    n = len(S)\n",
    "\n",
    "    for i in range(n):\n",
    "        j = i\n",
    "        while j < n:\n",
    "            if S[j] == S[i]:\n",
    "                count += 1\n",
    "            else:\n",
    "                break\n",
    "            j += 1\n",
    "\n",
    "    return count\n",
    "\n",
    "S = \"aaaaa\"\n",
    "result = count_substrings(S)\n",
    "print(result)  # Output: 15\n",
    "#The substrings are 'a', 'a', 'a', 'a', 'a', 'aa', 'aa', 'aa', 'aa', 'aaa', 'aaa', 'aaa', 'aaaa', 'aaaa', 'aaaaa'.\n",
    "\n",
    "\n"
   ]
  },
  {
   "cell_type": "code",
   "execution_count": 14,
   "id": "4d8c41f1",
   "metadata": {},
   "outputs": [
    {
     "name": "stdout",
     "output_type": "stream",
     "text": [
      "Move disc 1 from rod 1 to rod 3\n",
      "Move disc 2 from rod 1 to rod 2\n",
      "Move disc 1 from rod 3 to rod 2\n",
      "Move disc 3 from rod 1 to rod 3\n",
      "Move disc 1 from rod 2 to rod 1\n",
      "Move disc 2 from rod 2 to rod 3\n",
      "Move disc 1 from rod 1 to rod 3\n",
      "Total moves: 7\n"
     ]
    }
   ],
   "source": [
    "#6\n",
    "def tower_of_hanoi(n, source, destination, auxiliary):\n",
    "    if n == 1:\n",
    "        print(\"Move disc 1 from rod\", source, \"to rod\", destination)\n",
    "        return 1\n",
    "    else:\n",
    "        moves = 0\n",
    "        moves += tower_of_hanoi(n-1, source, auxiliary, destination)\n",
    "        print(\"Move disc\", n, \"from rod\", source, \"to rod\", destination)\n",
    "        moves += 1\n",
    "        moves += tower_of_hanoi(n-1, auxiliary, destination, source)\n",
    "        return moves\n",
    "\n",
    "# Test the function\n",
    "n = 3\n",
    "source_rod = 1\n",
    "destination_rod = 3\n",
    "auxiliary_rod = 2\n",
    "\n",
    "total_moves = tower_of_hanoi(n, source_rod, destination_rod, auxiliary_rod)\n",
    "print(\"Total moves:\", total_moves)\n"
   ]
  },
  {
   "cell_type": "code",
   "execution_count": 16,
   "id": "f95fa736",
   "metadata": {},
   "outputs": [
    {
     "name": "stdout",
     "output_type": "stream",
     "text": [
      "abc\n",
      "acb\n",
      "bac\n",
      "bca\n",
      "cba\n",
      "cab\n"
     ]
    }
   ],
   "source": [
    "#7\n",
    "def permute_string(string, left, right):\n",
    "    if left == right:\n",
    "        print(''.join(string))\n",
    "    else:\n",
    "        for i in range(left, right + 1):\n",
    "            string[left], string[i] = string[i], string[left]  # Swap characters\n",
    "            permute_string(string, left + 1, right)  # Recursively generate permutations\n",
    "            string[left], string[i] = string[i], string[left]  # Backtrack (undo the swap)\n",
    "\n",
    "str = \"abc\"\n",
    "n = len(str)\n",
    "string = list(str)\n",
    "permute_string(string, 0, n-1)\n"
   ]
  },
  {
   "cell_type": "code",
   "execution_count": 18,
   "id": "efdf958b",
   "metadata": {},
   "outputs": [
    {
     "name": "stdout",
     "output_type": "stream",
     "text": [
      "Total consonants: 6\n"
     ]
    }
   ],
   "source": [
    "#8\n",
    "def count_consonants(string):\n",
    "    consonants = \"bcdfghjklmnpqrstvwxyz\"  # List of consonants\n",
    "    count = 0\n",
    "\n",
    "    for char in string:\n",
    "        if char.lower() in consonants:\n",
    "            count += 1\n",
    "\n",
    "    return count\n",
    "\n",
    "# Test the function\n",
    "string = \"Hello iNeuron\"\n",
    "result = count_consonants(string)\n",
    "print(\"Total consonants:\", result)\n"
   ]
  },
  {
   "cell_type": "code",
   "execution_count": null,
   "id": "6661d047",
   "metadata": {},
   "outputs": [],
   "source": []
  }
 ],
 "metadata": {
  "kernelspec": {
   "display_name": "Python 3 (ipykernel)",
   "language": "python",
   "name": "python3"
  },
  "language_info": {
   "codemirror_mode": {
    "name": "ipython",
    "version": 3
   },
   "file_extension": ".py",
   "mimetype": "text/x-python",
   "name": "python",
   "nbconvert_exporter": "python",
   "pygments_lexer": "ipython3",
   "version": "3.9.12"
  }
 },
 "nbformat": 4,
 "nbformat_minor": 5
}
