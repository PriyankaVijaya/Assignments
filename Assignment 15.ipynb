{
 "cells": [
  {
   "cell_type": "code",
   "execution_count": 4,
   "id": "51b78628",
   "metadata": {},
   "outputs": [
    {
     "name": "stdout",
     "output_type": "stream",
     "text": [
      "[6, 8, 9, 9, -1]\n"
     ]
    }
   ],
   "source": [
    "#1\n",
    "def find_next_greater(arr):\n",
    "    stack = []\n",
    "    result = [-1] * len(arr)  # Initialize the result array with -1\n",
    "\n",
    "    for i in range(len(arr) - 1, -1, -1):\n",
    "        while stack and arr[i] >= stack[-1]:\n",
    "            stack.pop()\n",
    "\n",
    "        if stack:\n",
    "            result[i] = stack[-1]\n",
    "\n",
    "        stack.append(arr[i])\n",
    "\n",
    "    return result\n",
    "arr = [4,6, 8, 1, 9]\n",
    "next_greater = find_next_greater(arr)\n",
    "print(next_greater)\n"
   ]
  },
  {
   "cell_type": "code",
   "execution_count": 5,
   "id": "bedccdb1",
   "metadata": {},
   "outputs": [
    {
     "name": "stdout",
     "output_type": "stream",
     "text": [
      "[-1, 4, -1, 2, 2]\n"
     ]
    }
   ],
   "source": [
    "#2\n",
    "def find_nearest_smaller(arr):\n",
    "    stack = []\n",
    "    result = []\n",
    "\n",
    "    for num in arr:\n",
    "        while stack and stack[-1] >= num:\n",
    "            stack.pop()\n",
    "\n",
    "        if stack:\n",
    "            result.append(stack[-1])\n",
    "        else:\n",
    "            result.append(-1)\n",
    "\n",
    "        stack.append(num)\n",
    "\n",
    "    return result\n",
    "arr = [4, 5, 2, 10, 8]\n",
    "nearest_smaller = find_nearest_smaller(arr)\n",
    "print(nearest_smaller)\n",
    "\n"
   ]
  },
  {
   "cell_type": "code",
   "execution_count": 6,
   "id": "46dcd499",
   "metadata": {},
   "outputs": [
    {
     "name": "stdout",
     "output_type": "stream",
     "text": [
      "Original stack: [1, 2, 3, 4, 5]\n",
      "Reversed stack: [5, 4, 3, 2, 1]\n"
     ]
    }
   ],
   "source": [
    "#4\n",
    "def reverse_stack(stack):\n",
    "    if not stack:\n",
    "        return\n",
    "    \n",
    "    # Remove the top element from the stack\n",
    "    top = stack.pop()\n",
    "    \n",
    "    # Reverse the remaining stack\n",
    "    reverse_stack(stack)\n",
    "    \n",
    "    # Insert the top element at the bottom of the reversed stack\n",
    "    insert_at_bottom(stack, top)\n",
    "\n",
    "\n",
    "def insert_at_bottom(stack, item):\n",
    "    if not stack:\n",
    "        stack.append(item)\n",
    "        return\n",
    "    \n",
    "    # Remove all elements from the stack and insert them at the bottom\n",
    "    top = stack.pop()\n",
    "    insert_at_bottom(stack, item)\n",
    "    stack.append(top)\n",
    "    \n",
    "stack = [1, 2, 3, 4, 5]\n",
    "print(\"Original stack:\", stack)\n",
    "\n",
    "reverse_stack(stack)\n",
    "\n",
    "print(\"Reversed stack:\", stack)\n"
   ]
  },
  {
   "cell_type": "code",
   "execution_count": 10,
   "id": "a3447edd",
   "metadata": {},
   "outputs": [
    {
     "name": "stdout",
     "output_type": "stream",
     "text": [
      "Original string: Adhipurush movie release on June 16 !!!\n",
      "Reversed string: !!! 61 enuJ no esaeler eivom hsurupihdA\n"
     ]
    }
   ],
   "source": [
    "#5\n",
    "def reverse_string(string):\n",
    "    stack = []\n",
    "    \n",
    "    # Push each character of the string onto the stack\n",
    "    for char in string:\n",
    "        stack.append(char)\n",
    "    \n",
    "    reversed_string = \"\"\n",
    "    \n",
    "    # Pop each character from the stack and append it to the reversed string\n",
    "    while stack:\n",
    "        reversed_string += stack.pop()\n",
    "    \n",
    "    return reversed_string\n",
    "\n",
    "string = \"Adhipurush movie release on June 16 !!!\"\n",
    "\n",
    "reversed_string = reverse_string(string)\n",
    "print(\"Original string:\", string)\n",
    "print(\"Reversed string:\", reversed_string)\n"
   ]
  },
  {
   "cell_type": "code",
   "execution_count": 12,
   "id": "f489eb78",
   "metadata": {},
   "outputs": [
    {
     "name": "stdout",
     "output_type": "stream",
     "text": [
      "Postfix Expression: 52+83*4/\n",
      "Result: 6.0\n"
     ]
    }
   ],
   "source": [
    "#6\n",
    "def evaluate_postfix(expression):\n",
    "    stack = []\n",
    "    \n",
    "    for char in expression:\n",
    "        if char.isdigit():\n",
    "            stack.append(int(char))\n",
    "        else:\n",
    "            operand2 = stack.pop()\n",
    "            operand1 = stack.pop()\n",
    "            \n",
    "            if char == '*':\n",
    "                result = operand1 * operand2\n",
    "            elif char == '/':\n",
    "                result = operand1 / operand2\n",
    "            elif char == '+':\n",
    "                result = operand1 + operand2\n",
    "            elif char == '-':\n",
    "                result = operand1 - operand2\n",
    "            \n",
    "            stack.append(result)\n",
    "    \n",
    "    return stack.pop()\n",
    "\n",
    "expression = \"52+83*4/\"\n",
    "result = evaluate_postfix(expression)\n",
    "print(\"Postfix Expression:\", expression)\n",
    "print(\"Result:\", result)\n"
   ]
  },
  {
   "cell_type": "code",
   "execution_count": 28,
   "id": "5c1580c5",
   "metadata": {},
   "outputs": [
    {
     "name": "stdout",
     "output_type": "stream",
     "text": [
      "1\n",
      "2\n",
      "8\n"
     ]
    }
   ],
   "source": [
    "##7 answer \n",
    "\n",
    "class MinStack:\n",
    "    def __init__(self):\n",
    "        self.stack = []\n",
    "        self.min_stack = []  # Auxiliary stack for minimum elements\n",
    "\n",
    "    def push(self, val):\n",
    "        self.stack.append(val)\n",
    "        if not self.min_stack or val <= self.min_stack[-1]:\n",
    "            self.min_stack.append(val)\n",
    "\n",
    "    def pop(self):\n",
    "        if self.stack.pop() == self.min_stack[-1]:\n",
    "            self.min_stack.pop()\n",
    "\n",
    "    def top(self):\n",
    "        return self.stack[-1]\n",
    "\n",
    "    def getMin(self):\n",
    "        return self.min_stack[-1]\n",
    "stack = MinStack()\n",
    "stack.push(5)\n",
    "stack.push(2)\n",
    "stack.push(8)\n",
    "stack.push(1)\n",
    "print(stack.getMin())  # Output: 1\n",
    "stack.pop()\n",
    "print(stack.getMin())  # Output: 2\n",
    "print(stack.top())     # Output: 8\n",
    "\n"
   ]
  },
  {
   "cell_type": "code",
   "execution_count": 29,
   "id": "50866b5e",
   "metadata": {},
   "outputs": [
    {
     "name": "stdout",
     "output_type": "stream",
     "text": [
      "Amount of water trapped: 5\n"
     ]
    }
   ],
   "source": [
    "#8\n",
    "def trap_water(height):\n",
    "    if not height:\n",
    "        return 0\n",
    "\n",
    "    left = 0\n",
    "    right = len(height) - 1\n",
    "    left_max = right_max = water = 0\n",
    "\n",
    "    while left < right:\n",
    "        if height[left] < height[right]:\n",
    "            if height[left] > left_max:\n",
    "                left_max = height[left]\n",
    "            else:\n",
    "                water += left_max - height[left]\n",
    "            left += 1\n",
    "        else:\n",
    "            if height[right] > right_max:\n",
    "                right_max = height[right]\n",
    "            else:\n",
    "                water += right_max - height[right]\n",
    "            right -= 1\n",
    "\n",
    "    return water\n",
    "\n",
    "elevation_map = [0, 1, 0, 2, 1, 0, 3, 2, 1, 2, 1]\n",
    "water_trapped = trap_water(elevation_map)\n",
    "print(\"Amount of water trapped:\", water_trapped)\n"
   ]
  },
  {
   "cell_type": "code",
   "execution_count": null,
   "id": "8b23a461",
   "metadata": {},
   "outputs": [],
   "source": []
  }
 ],
 "metadata": {
  "kernelspec": {
   "display_name": "Python 3 (ipykernel)",
   "language": "python",
   "name": "python3"
  },
  "language_info": {
   "codemirror_mode": {
    "name": "ipython",
    "version": 3
   },
   "file_extension": ".py",
   "mimetype": "text/x-python",
   "name": "python",
   "nbconvert_exporter": "python",
   "pygments_lexer": "ipython3",
   "version": "3.9.12"
  }
 },
 "nbformat": 4,
 "nbformat_minor": 5
}
