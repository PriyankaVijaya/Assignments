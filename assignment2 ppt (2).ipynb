{
 "cells": [
  {
   "cell_type": "code",
   "execution_count": 1,
   "id": "630d3275-e8fc-492c-9eed-9fafe2dfcf50",
   "metadata": {},
   "outputs": [
    {
     "name": "stdout",
     "output_type": "stream",
     "text": [
      "4\n"
     ]
    }
   ],
   "source": [
    "#question 1 answer\n",
    "class Solution:\n",
    "    def arrayPairSum(self, nums: list[int]) -> int:\n",
    "        nums.sort()\n",
    "        r=0\n",
    "        for i in range(0,len(nums),2):\n",
    "            r+=min(nums[i],nums[i+1])\n",
    "        return(r)\n",
    "s=Solution()\n",
    "nums = [1,4,3,2]\n",
    "print(s.arrayPairSum(nums))"
   ]
  },
  {
   "cell_type": "code",
   "execution_count": 2,
   "id": "14c19a45-3f09-4f07-b5da-d261671f41d0",
   "metadata": {},
   "outputs": [
    {
     "name": "stdout",
     "output_type": "stream",
     "text": [
      "3\n"
     ]
    }
   ],
   "source": [
    "#question 2 answer\n",
    "class solution:\n",
    "    def distributeCandies(self, candyType: list[int]) -> int:\n",
    "        seen = {}\n",
    "        i = 0\n",
    "        amount_allowed = 0\n",
    "        while(i<len(candyType) and amount_allowed<len(candyType)//2):\n",
    "            if seen.get(candyType[i],0)==0:\n",
    "                amount_allowed+=1\n",
    "                seen[candyType[i]] = 1\n",
    "            i+=1\n",
    "        return amount_allowed\n",
    "s=solution()\n",
    "candyType = [1,1,2,2,3,3]\n",
    "print(s.distributeCandies(candyType))"
   ]
  },
  {
   "cell_type": "code",
   "execution_count": 3,
   "id": "96f6f294-b643-4181-8cfa-97a5fb588463",
   "metadata": {},
   "outputs": [
    {
     "name": "stdout",
     "output_type": "stream",
     "text": [
      "5\n"
     ]
    }
   ],
   "source": [
    "#question 3 answer\n",
    "class solution:\n",
    "    def findLHS(self, nums: list[int]) -> int:\n",
    "        letter = {}\n",
    "        ans = 0\n",
    "        for i in nums:\n",
    "            if i not in letter:\n",
    "                letter[i] = 1\n",
    "            else:\n",
    "                letter[i]+=1\n",
    "        for i in letter:\n",
    "            if i+1 in letter.keys():\n",
    "                ans = max(ans, letter[i]+letter[i+1])\n",
    "        return ans\n",
    "s=solution()        \n",
    "nums = [1,3,2,2,5,2,3,7]\n",
    "print(s.findLHS(nums))"
   ]
  },
  {
   "cell_type": "code",
   "execution_count": 4,
   "id": "5d3ff90d-c71e-471a-8d05-9efab593416a",
   "metadata": {},
   "outputs": [
    {
     "name": "stdout",
     "output_type": "stream",
     "text": [
      "6\n"
     ]
    }
   ],
   "source": [
    "#question 5 answer\n",
    "class solution:\n",
    "    def maximumProduct(self, nums: list[int]) -> int:\n",
    "        if len(nums) == 3:\n",
    "            return nums[0] * nums[1] * nums[2]\n",
    "        max1 = max2 = max3 = -1000 \n",
    "        min1 = min2 = 1000\n",
    "        for i in nums:\n",
    "            if i > max1:\n",
    "                max3 = max2\n",
    "                max2 = max1\n",
    "                max1 = i\n",
    "            elif i > max2:\n",
    "                max3 = max2\n",
    "                max2 = i\n",
    "            elif i > max3:\n",
    "                max3 = i\n",
    "            if i < min1:\n",
    "                min2 = min1\n",
    "                min1 = i\n",
    "            elif i < min2:\n",
    "                min2 = i\n",
    "        return max(max1 * max2 * max3, min1 * min2 * max1)\n",
    "s=solution()        \n",
    "nums = [1,2,3]\n",
    "print(s.maximumProduct(nums))"
   ]
  },
  {
   "cell_type": "code",
   "execution_count": 5,
   "id": "7a54a42f-125a-417e-81a1-6d728d26f6e1",
   "metadata": {},
   "outputs": [
    {
     "name": "stdout",
     "output_type": "stream",
     "text": [
      "4\n"
     ]
    }
   ],
   "source": [
    "#question 6 answer\n",
    "class solution:\n",
    "     def search(self, nums: list[int], target: int) -> int:\n",
    "        left,right=0,len(nums)-1\n",
    "        while left<=right:\n",
    "            mid=(left+right)//2\n",
    "            if target == nums[mid]:\n",
    "                return mid\n",
    "            elif target < nums[mid]:\n",
    "                right = mid - 1\n",
    "            else:\n",
    "                left=mid+1\n",
    "        return -1\n",
    "s=solution()        \n",
    "nums = [-1,0,3,5,9,12]\n",
    "target = 9\n",
    "print(s.search(nums,target))"
   ]
  },
  {
   "cell_type": "code",
   "execution_count": 5,
   "id": "240936ae-aca0-4a9c-920a-6ca2d17b17ed",
   "metadata": {},
   "outputs": [
    {
     "name": "stdout",
     "output_type": "stream",
     "text": [
      "True\n"
     ]
    }
   ],
   "source": [
    "#question 4 answer\n",
    "def can_place_flowers(flowerbed, n):\n",
    "    size = len(flowerbed)\n",
    "    count = 0\n",
    "    i = 0\n",
    "\n",
    "    while i < size:\n",
    "        if flowerbed[i] == 0 and (i == 0 or flowerbed[i - 1] == 0) and (i == size - 1 or flowerbed[i + 1] == 0):\n",
    "            flowerbed[i] = 1\n",
    "            count += 1\n",
    "        i += 1\n",
    "\n",
    "    return count >= n\n",
    "\n",
    "flowerbed = [1, 0, 0, 0, 1]\n",
    "n = 1\n",
    "result = can_place_flowers(flowerbed, n)\n",
    "print(result)  # Output: True\n"
   ]
  },
  {
   "cell_type": "code",
   "execution_count": 6,
   "id": "5df6e982",
   "metadata": {},
   "outputs": [
    {
     "name": "stdout",
     "output_type": "stream",
     "text": [
      "True\n",
      "True\n",
      "False\n"
     ]
    }
   ],
   "source": [
    "#question 7 answer\n",
    "def is_monotonic(nums):\n",
    "    increasing = decreasing = True\n",
    "\n",
    "    for i in range(len(nums) - 1):\n",
    "        if nums[i] > nums[i + 1]:\n",
    "            increasing = False\n",
    "        if nums[i] < nums[i + 1]:\n",
    "            decreasing = False\n",
    "\n",
    "    return increasing or decreasing\n",
    "\n",
    "nums = [1, 2, 3, 4, 5]\n",
    "result = is_monotonic(nums)\n",
    "print(result)  # Output: True\n",
    "\n",
    "nums = [5, 4, 3, 2, 1]\n",
    "result = is_monotonic(nums)\n",
    "print(result)  # Output: True\n",
    "\n",
    "nums = [1, 2, 4, 3, 5]\n",
    "result = is_monotonic(nums)\n",
    "print(result)  # Output: False\n"
   ]
  },
  {
   "cell_type": "code",
   "execution_count": 7,
   "id": "b9fd195f",
   "metadata": {},
   "outputs": [
    {
     "name": "stdout",
     "output_type": "stream",
     "text": [
      "4\n"
     ]
    }
   ],
   "source": [
    "#question 8 answer\n",
    "def minimum_score(nums, k):\n",
    "    minimum_score = max(nums) - min(nums)\n",
    "\n",
    "    for i in range(len(nums)):\n",
    "        for x in range(-k, k + 1):\n",
    "            nums[i] += x\n",
    "            potential_score = max(nums) - min(nums)\n",
    "            minimum_score = min(minimum_score, potential_score)\n",
    "            nums[i] -= x\n",
    "\n",
    "    return minimum_score\n",
    "\n",
    "nums = [1, 3, 5, 7]\n",
    "k = 3\n",
    "result = minimum_score(nums, k)\n",
    "print(result)  # Output: 4\n"
   ]
  },
  {
   "cell_type": "code",
   "execution_count": null,
   "id": "2bc5c63a",
   "metadata": {},
   "outputs": [],
   "source": []
  }
 ],
 "metadata": {
  "kernelspec": {
   "display_name": "Python 3 (ipykernel)",
   "language": "python",
   "name": "python3"
  },
  "language_info": {
   "codemirror_mode": {
    "name": "ipython",
    "version": 3
   },
   "file_extension": ".py",
   "mimetype": "text/x-python",
   "name": "python",
   "nbconvert_exporter": "python",
   "pygments_lexer": "ipython3",
   "version": "3.9.12"
  }
 },
 "nbformat": 4,
 "nbformat_minor": 5
}
