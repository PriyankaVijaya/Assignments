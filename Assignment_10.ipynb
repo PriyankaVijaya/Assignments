{
 "cells": [
  {
   "cell_type": "code",
   "execution_count": 4,
   "metadata": {},
   "outputs": [
    {
     "ename": "NameError",
     "evalue": "name 'ispowerthree' is not defined",
     "output_type": "error",
     "traceback": [
      "\u001b[1;31m---------------------------------------------------------------------------\u001b[0m",
      "\u001b[1;31mNameError\u001b[0m                                 Traceback (most recent call last)",
      "\u001b[1;32mc:\\Users\\pushp\\OneDrive\\Desktop\\Coding\\Assignment_10.ipynb Cell 1\u001b[0m in \u001b[0;36m9\n\u001b[0;32m      <a href='vscode-notebook-cell:/c%3A/Users/pushp/OneDrive/Desktop/Coding/Assignment_10.ipynb#W0sZmlsZQ%3D%3D?line=6'>7</a>\u001b[0m          n \u001b[39m/\u001b[39m\u001b[39m/\u001b[39m\u001b[39m=\u001b[39m \u001b[39m3\u001b[39m\n\u001b[0;32m      <a href='vscode-notebook-cell:/c%3A/Users/pushp/OneDrive/Desktop/Coding/Assignment_10.ipynb#W0sZmlsZQ%3D%3D?line=7'>8</a>\u001b[0m         \u001b[39mreturn\u001b[39;00m n \u001b[39m==\u001b[39m \u001b[39m1\u001b[39m\n\u001b[1;32m----> <a href='vscode-notebook-cell:/c%3A/Users/pushp/OneDrive/Desktop/Coding/Assignment_10.ipynb#W0sZmlsZQ%3D%3D?line=8'>9</a>\u001b[0m ispowerthree(\u001b[39m27\u001b[39m)\n",
      "\u001b[1;31mNameError\u001b[0m: name 'ispowerthree' is not defined"
     ]
    }
   ],
   "source": [
    "#question1\n",
    "class Solution:\n",
    "    def ispowerthree(self, n: int) -> bool:\n",
    "        if n <= 0:\n",
    "          return False\n",
    "        while n % 3 == 0:\n",
    "         n //= 3\n",
    "        return n == 1\n",
    "ispowerthree(27)"
   ]
  }
 ],
 "metadata": {
  "language_info": {
   "name": "python"
  },
  "orig_nbformat": 4
 },
 "nbformat": 4,
 "nbformat_minor": 2
}
